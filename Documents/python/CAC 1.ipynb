{
 "cells": [
  {
   "cell_type": "code",
   "execution_count": null,
   "metadata": {},
   "outputs": [],
   "source": [
    "# Function to record a new expense\n",
    "def track_expenses(date, category, amount):\n",
    "    extra_expense = {\n",
    "        'date': date,\n",
    "        'category': category,\n",
    "        'amount': amount\n",
    "    }\n",
    "    expenses.append(extra_expense)\n",
    "\n",
    "# Function to calculate the total balance\n",
    "def calculate_balance():\n",
    "    balance = 0\n",
    "    for extra_expense in expenses:\n",
    "        balance += extra_expense['amount']\n",
    "    return balance\n",
    "\n",
    "# Function to display transactions\n",
    "def view_expenses():\n",
    "    for i, extra_expense in enumerate(expenses, 1):\n",
    "        print(f\"{i}. Date: {extra_expense['date']}, Category: {extra_expense['category']}, Amount: Rupees{extra_expense['amount']}\")\n",
    "\n",
    "# Main program loop\n",
    "while True:\n",
    "    print(\"\\n Student Personal Finance Tracker\")\n",
    "    print(\"1. Record a transaction\")\n",
    "    print(\"2. Calculate total amount\")\n",
    "    print(\"3. Display transactions\")\n",
    "    print(\"4. Quit\")\n",
    "\n",
    "    choice = input(\"Enter your choice (1/2/3/4): \")\n",
    "\n",
    "    if choice == '1':\n",
    "        date = input(\"Enter date (YYYY-MM-DD): \")\n",
    "        category = input(\"Enter category\")\n"
   ]
  }
 ],
 "metadata": {
  "language_info": {
   "name": "python"
  },
  "orig_nbformat": 4
 },
 "nbformat": 4,
 "nbformat_minor": 2
}
